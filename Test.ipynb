{
 "cells": [
  {
   "cell_type": "code",
   "execution_count": 1,
   "metadata": {},
   "outputs": [
    {
     "data": {
      "text/plain": [
       "(500, 3)"
      ]
     },
     "execution_count": 1,
     "metadata": {},
     "output_type": "execute_result"
    }
   ],
   "source": [
    "## Save sample.npy\n",
    "import numpy as np\n",
    "\n",
    "feature = np.random.random((500, 2))\n",
    "target = np.random.randint(0, 2, size=500)\n",
    "bias = np.random.randint(0, 2, size=500)\n",
    "\n",
    "input_vec = np.column_stack((feature, bias))\n",
    "input_vec.shape"
   ]
  },
  {
   "cell_type": "code",
   "execution_count": 2,
   "metadata": {},
   "outputs": [],
   "source": [
    "whole = np.column_stack((feature, bias, target))\n",
    "np.save('sample.npy', whole)"
   ]
  },
  {
   "cell_type": "markdown",
   "metadata": {},
   "source": [
    "# FairBatch Test"
   ]
  },
  {
   "cell_type": "code",
   "execution_count": 3,
   "metadata": {},
   "outputs": [
    {
     "name": "stderr",
     "output_type": "stream",
     "text": [
      "2022-11-09 16:23:15.683138: W tensorflow/stream_executor/platform/default/dso_loader.cc:64] Could not load dynamic library 'libcudart.so.11.0'; dlerror: libcudart.so.11.0: cannot open shared object file: No such file or directory; LD_LIBRARY_PATH: /mnt/e/MAF_API/lib/python3.8/site-packages/cv2/../../lib64:\n",
      "2022-11-09 16:23:15.683173: I tensorflow/stream_executor/cuda/cudart_stub.cc:29] Ignore above cudart dlerror if you do not have a GPU set up on your machine.\n"
     ]
    },
    {
     "name": "stdout",
     "output_type": "stream",
     "text": [
      "Trained on [[[  cpu  ]]] device.\n"
     ]
    }
   ],
   "source": [
    "from DataSet import RawDataSet\n",
    "from Algorithms.sota import FairBatch"
   ]
  },
  {
   "cell_type": "code",
   "execution_count": 4,
   "metadata": {},
   "outputs": [],
   "source": [
    "raw_dataset = RawDataSet('sample.npy',\n",
    "                        target_col_idx=3,\n",
    "                        bias_col_idx=2)"
   ]
  },
  {
   "cell_type": "code",
   "execution_count": 5,
   "metadata": {},
   "outputs": [
    {
     "name": "stdout",
     "output_type": "stream",
     "text": [
      "(500, 3)\n",
      "(500,)\n",
      "(500,)\n"
     ]
    }
   ],
   "source": [
    "print(raw_dataset.feature.shape)\n",
    "print(raw_dataset.target.shape)\n",
    "print(raw_dataset.bias.shape)"
   ]
  },
  {
   "cell_type": "code",
   "execution_count": 6,
   "metadata": {},
   "outputs": [
    {
     "name": "stdout",
     "output_type": "stream",
     "text": [
      "Epoch [0] || Average loss : 0.6869944095611572\n",
      "Epoch [10] || Average loss : 0.6781153500080108\n",
      "Epoch [20] || Average loss : 0.6615707099437713\n",
      "Epoch [30] || Average loss : 0.6513504534959793\n",
      "Epoch [40] || Average loss : 0.646879044175148\n",
      "Epoch [50] || Average loss : 0.6437902450561523\n",
      "Epoch [60] || Average loss : 0.6415660440921783\n",
      "Epoch [70] || Average loss : 0.6196677803993225\n",
      "Epoch [80] || Average loss : 0.6121668249368668\n",
      "Epoch [90] || Average loss : 0.6020222991704941\n",
      "Epoch [100] || Average loss : 0.5938995778560638\n",
      "Epoch [110] || Average loss : 0.6260451436042785\n",
      "Epoch [120] || Average loss : 0.5726229876279831\n",
      "Epoch [130] || Average loss : 0.5543396800756455\n",
      "Epoch [140] || Average loss : 0.5453462094068527\n",
      "Epoch [150] || Average loss : 0.5220710426568985\n",
      "Epoch [160] || Average loss : 0.5527372524142266\n",
      "Epoch [170] || Average loss : 0.5165256693959236\n",
      "Epoch [180] || Average loss : 0.5029552653431892\n",
      "Epoch [190] || Average loss : 0.4804652765393257\n",
      "Epoch [200] || Average loss : 0.47986348867416384\n",
      "Epoch [210] || Average loss : 0.4470499977469444\n",
      "Epoch [220] || Average loss : 0.4321356065571308\n",
      "Epoch [230] || Average loss : 0.4422986462712288\n",
      "Epoch [240] || Average loss : 0.45478237271308897\n",
      "Epoch [250] || Average loss : 0.4527954697608948\n",
      "Epoch [260] || Average loss : 0.43519034013152125\n",
      "Epoch [270] || Average loss : 0.4124027982354164\n",
      "Epoch [280] || Average loss : 0.4089093044400215\n",
      "Epoch [290] || Average loss : 0.3966963328421116\n",
      "\n",
      "########## Train finished ##########\n",
      "\n"
     ]
    }
   ],
   "source": [
    "## train\n",
    "prediction = FairBatch.train(raw_dataset,\n",
    "                            batch_size=20,\n",
    "                            alpha=0.05,\n",
    "                            target_fairness='eqopp',\n",
    "                            learning_rate=0.005,\n",
    "                            num_epochs=300)"
   ]
  },
  {
   "cell_type": "code",
   "execution_count": 7,
   "metadata": {},
   "outputs": [
    {
     "data": {
      "text/plain": [
       "array([0., 1.])"
      ]
     },
     "execution_count": 7,
     "metadata": {},
     "output_type": "execute_result"
    }
   ],
   "source": [
    "import numpy as np\n",
    "np.unique(np.array(prediction))"
   ]
  },
  {
   "cell_type": "markdown",
   "metadata": {},
   "source": [
    "# Fairness VAE Test"
   ]
  },
  {
   "cell_type": "code",
   "execution_count": 8,
   "metadata": {},
   "outputs": [
    {
     "name": "stdout",
     "output_type": "stream",
     "text": [
      "Train on [[[  cpu  ]]] device.\n"
     ]
    }
   ],
   "source": [
    "from DataSet import RawDataSet\n",
    "from Algorithms.sota import FairnessVAE"
   ]
  },
  {
   "cell_type": "code",
   "execution_count": 9,
   "metadata": {},
   "outputs": [],
   "source": [
    "raw_dataset = RawDataSet('CelebA_samples.csv',\n",
    "                        target_col_name='Heavy_Makeup',\n",
    "                        bias_col_name='Male')"
   ]
  },
  {
   "cell_type": "code",
   "execution_count": 10,
   "metadata": {},
   "outputs": [
    {
     "name": "stdout",
     "output_type": "stream",
     "text": [
      "(500, 12289)\n",
      "(500,)\n",
      "(500,)\n"
     ]
    }
   ],
   "source": [
    "print(raw_dataset.feature.shape)\n",
    "print(raw_dataset.target.shape)\n",
    "print(raw_dataset.bias.shape)"
   ]
  },
  {
   "cell_type": "code",
   "execution_count": 11,
   "metadata": {},
   "outputs": [],
   "source": [
    "fVAE = FairnessVAE.FairnessVAE(raw_dataset, z_dim=10, batch_size=20, num_epochs=10)"
   ]
  },
  {
   "cell_type": "code",
   "execution_count": 12,
   "metadata": {},
   "outputs": [
    {
     "name": "stdout",
     "output_type": "stream",
     "text": [
      "### Training upstream start\n",
      "Epoch [001]   VAE loss: 8427.960   Discriminator loss: 2.235\n",
      "Epoch [002]   VAE loss: 8396.556   Discriminator loss: 69.819\n",
      "Epoch [003]   VAE loss: 8350.706   Discriminator loss: 1278.745\n",
      "Epoch [004]   VAE loss: 8201.162   Discriminator loss: 11806.157\n",
      "Epoch [005]   VAE loss: 6836.474   Discriminator loss: 120910.539\n",
      "Epoch [006]   VAE loss: 1851.244   Discriminator loss: 2018777.000\n",
      "Epoch [007]   VAE loss: 411.957   Discriminator loss: 4204871.000\n",
      "Epoch [008]   VAE loss: -123.312   Discriminator loss: 11941474.000\n",
      "Epoch [009]   VAE loss: -1831.101   Discriminator loss: 64309908.000\n",
      "Epoch [010]   VAE loss: -9607.893   Discriminator loss: 323455776.000\n",
      "### Upstream training done.\n"
     ]
    }
   ],
   "source": [
    "fVAE.train_upstream()"
   ]
  },
  {
   "cell_type": "code",
   "execution_count": 13,
   "metadata": {},
   "outputs": [
    {
     "name": "stdout",
     "output_type": "stream",
     "text": [
      "### Downstream training start.\n",
      "Epoch [001]   VAE loss: -6383418.500   Discriminator loss: 11.096\n",
      "Epoch [002]   VAE loss: -6386524.000   Discriminator loss: 9.951\n",
      "Epoch [003]   VAE loss: -6149278.500   Discriminator loss: 10.134\n",
      "Epoch [004]   VAE loss: -6354063.500   Discriminator loss: 9.845\n",
      "Epoch [005]   VAE loss: -6249723.000   Discriminator loss: 9.685\n",
      "Epoch [006]   VAE loss: -6250526.500   Discriminator loss: 9.652\n",
      "Epoch [007]   VAE loss: -6229703.500   Discriminator loss: 9.637\n",
      "Epoch [008]   VAE loss: -6312677.500   Discriminator loss: 9.719\n",
      "Epoch [009]   VAE loss: -6374841.000   Discriminator loss: 9.661\n",
      "Epoch [010]   VAE loss: -6245301.000   Discriminator loss: 9.485\n",
      "### Downstream training done.\n"
     ]
    }
   ],
   "source": [
    "fVAE.train_downstream()"
   ]
  },
  {
   "cell_type": "code",
   "execution_count": 14,
   "metadata": {},
   "outputs": [
    {
     "name": "stdout",
     "output_type": "stream",
     "text": [
      "### Evaluation start.\n",
      "### Evaluation done.\n"
     ]
    }
   ],
   "source": [
    "pred = fVAE.evaluation()"
   ]
  },
  {
   "cell_type": "code",
   "execution_count": 15,
   "metadata": {},
   "outputs": [
    {
     "data": {
      "text/plain": [
       "tensor([0, 0, 0, 0, 0, 0, 0, 0, 0, 0, 0, 0, 0, 0, 0, 0, 0, 0, 0, 0, 0, 0, 0, 0,\n",
       "        0, 0, 0, 0, 0, 0, 0, 0, 0, 0, 0, 1, 0, 0, 1, 0, 0, 0, 0, 0, 0, 0, 0, 0,\n",
       "        0, 0, 0, 0, 0, 0, 0, 0, 0, 0, 0, 0, 0, 1, 0, 0, 0, 0, 0, 0, 0, 0, 0, 0,\n",
       "        0, 0, 0, 0, 0, 0, 0, 0, 0, 0, 0, 0, 0, 0, 0, 0, 0, 0, 0, 0, 0, 0, 0, 0,\n",
       "        0, 0, 0, 0])"
      ]
     },
     "execution_count": 15,
     "metadata": {},
     "output_type": "execute_result"
    }
   ],
   "source": [
    "pred"
   ]
  },
  {
   "cell_type": "code",
   "execution_count": null,
   "metadata": {},
   "outputs": [],
   "source": []
  }
 ],
 "metadata": {
  "kernelspec": {
   "display_name": "Python 3",
   "language": "python",
   "name": "python3"
  },
  "language_info": {
   "codemirror_mode": {
    "name": "ipython",
    "version": 3
   },
   "file_extension": ".py",
   "mimetype": "text/x-python",
   "name": "python",
   "nbconvert_exporter": "python",
   "pygments_lexer": "ipython3",
   "version": "3.8.10"
  }
 },
 "nbformat": 4,
 "nbformat_minor": 4
}
